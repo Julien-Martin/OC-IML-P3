{
 "cells": [
  {
   "cell_type": "code",
   "execution_count": 1,
   "metadata": {},
   "outputs": [
    {
     "name": "stdout",
     "output_type": "stream",
     "text": [
      "['socrata_metadata_2016-building-energy-benchmarking.json', '.DS_Store', 'socrata_metadata_2015-building-energy-benchmarking.json', 'clean-building-energy-benchmarking.csv', '2015-building-energy-benchmarking.csv', '2016-building-energy-benchmarking.csv']\n"
     ]
    }
   ],
   "source": [
    "import numpy as np\n",
    "import pandas as pd\n",
    "\n",
    "import seaborn as sns\n",
    "from matplotlib import pyplot as plt\n",
    "sns.set_style(\"whitegrid\")\n",
    "%matplotlib inline\n",
    "\n",
    "import warnings\n",
    "warnings.filterwarnings(\"ignore\")\n",
    "\n",
    "import os\n",
    "print(os.listdir(\"data\"))"
   ]
  },
  {
   "cell_type": "code",
   "execution_count": 2,
   "metadata": {},
   "outputs": [],
   "source": [
    "raw = pd.read_csv(\"data/clean-building-energy-benchmarking.csv\")\n",
    "data = raw.copy()"
   ]
  },
  {
   "cell_type": "code",
   "execution_count": 3,
   "metadata": {},
   "outputs": [
    {
     "data": {
      "text/html": [
       "<div>\n",
       "<style scoped>\n",
       "    .dataframe tbody tr th:only-of-type {\n",
       "        vertical-align: middle;\n",
       "    }\n",
       "\n",
       "    .dataframe tbody tr th {\n",
       "        vertical-align: top;\n",
       "    }\n",
       "\n",
       "    .dataframe thead th {\n",
       "        text-align: right;\n",
       "    }\n",
       "</style>\n",
       "<table border=\"1\" class=\"dataframe\">\n",
       "  <thead>\n",
       "    <tr style=\"text-align: right;\">\n",
       "      <th></th>\n",
       "      <th>DataYear</th>\n",
       "      <th>ENERGYSTARScore</th>\n",
       "      <th>GHGEmissionsIntensity</th>\n",
       "      <th>NumberofBuildings</th>\n",
       "      <th>NumberofFloors</th>\n",
       "      <th>OSEBuildingID</th>\n",
       "      <th>PropertyGFABuilding(s)</th>\n",
       "      <th>PropertyGFAParking</th>\n",
       "      <th>PropertyGFATotal</th>\n",
       "      <th>SiteEnergyUse(kBtu)</th>\n",
       "      <th>...</th>\n",
       "      <th>Neighborhood_DOWNTOWN</th>\n",
       "      <th>Neighborhood_EAST</th>\n",
       "      <th>Neighborhood_GREATER DUWAMISH</th>\n",
       "      <th>Neighborhood_LAKE UNION</th>\n",
       "      <th>Neighborhood_MAGNOLIA / QUEEN ANNE</th>\n",
       "      <th>Neighborhood_NORTH</th>\n",
       "      <th>Neighborhood_NORTHEAST</th>\n",
       "      <th>Neighborhood_NORTHWEST</th>\n",
       "      <th>Neighborhood_SOUTHEAST</th>\n",
       "      <th>Neighborhood_SOUTHWEST</th>\n",
       "    </tr>\n",
       "  </thead>\n",
       "  <tbody>\n",
       "    <tr>\n",
       "      <td>0</td>\n",
       "      <td>2015</td>\n",
       "      <td>65.0</td>\n",
       "      <td>2.64</td>\n",
       "      <td>1.0</td>\n",
       "      <td>12.0</td>\n",
       "      <td>1</td>\n",
       "      <td>88434</td>\n",
       "      <td>0</td>\n",
       "      <td>88434</td>\n",
       "      <td>6981428.0</td>\n",
       "      <td>...</td>\n",
       "      <td>1</td>\n",
       "      <td>0</td>\n",
       "      <td>0</td>\n",
       "      <td>0</td>\n",
       "      <td>0</td>\n",
       "      <td>0</td>\n",
       "      <td>0</td>\n",
       "      <td>0</td>\n",
       "      <td>0</td>\n",
       "      <td>0</td>\n",
       "    </tr>\n",
       "    <tr>\n",
       "      <td>1</td>\n",
       "      <td>2015</td>\n",
       "      <td>51.0</td>\n",
       "      <td>2.38</td>\n",
       "      <td>1.0</td>\n",
       "      <td>11.0</td>\n",
       "      <td>2</td>\n",
       "      <td>88502</td>\n",
       "      <td>15064</td>\n",
       "      <td>103566</td>\n",
       "      <td>8354235.0</td>\n",
       "      <td>...</td>\n",
       "      <td>1</td>\n",
       "      <td>0</td>\n",
       "      <td>0</td>\n",
       "      <td>0</td>\n",
       "      <td>0</td>\n",
       "      <td>0</td>\n",
       "      <td>0</td>\n",
       "      <td>0</td>\n",
       "      <td>0</td>\n",
       "      <td>0</td>\n",
       "    </tr>\n",
       "    <tr>\n",
       "      <td>2</td>\n",
       "      <td>2015</td>\n",
       "      <td>18.0</td>\n",
       "      <td>1.92</td>\n",
       "      <td>1.0</td>\n",
       "      <td>41.0</td>\n",
       "      <td>3</td>\n",
       "      <td>961990</td>\n",
       "      <td>0</td>\n",
       "      <td>961990</td>\n",
       "      <td>NaN</td>\n",
       "      <td>...</td>\n",
       "      <td>1</td>\n",
       "      <td>0</td>\n",
       "      <td>0</td>\n",
       "      <td>0</td>\n",
       "      <td>0</td>\n",
       "      <td>0</td>\n",
       "      <td>0</td>\n",
       "      <td>0</td>\n",
       "      <td>0</td>\n",
       "      <td>0</td>\n",
       "    </tr>\n",
       "    <tr>\n",
       "      <td>3</td>\n",
       "      <td>2015</td>\n",
       "      <td>NaN</td>\n",
       "      <td>NaN</td>\n",
       "      <td>1.0</td>\n",
       "      <td>10.0</td>\n",
       "      <td>5</td>\n",
       "      <td>61320</td>\n",
       "      <td>0</td>\n",
       "      <td>61320</td>\n",
       "      <td>28229320.0</td>\n",
       "      <td>...</td>\n",
       "      <td>1</td>\n",
       "      <td>0</td>\n",
       "      <td>0</td>\n",
       "      <td>0</td>\n",
       "      <td>0</td>\n",
       "      <td>0</td>\n",
       "      <td>0</td>\n",
       "      <td>0</td>\n",
       "      <td>0</td>\n",
       "      <td>0</td>\n",
       "    </tr>\n",
       "    <tr>\n",
       "      <td>4</td>\n",
       "      <td>2015</td>\n",
       "      <td>67.0</td>\n",
       "      <td>4.02</td>\n",
       "      <td>1.0</td>\n",
       "      <td>18.0</td>\n",
       "      <td>8</td>\n",
       "      <td>107430</td>\n",
       "      <td>12460</td>\n",
       "      <td>119890</td>\n",
       "      <td>14829099.0</td>\n",
       "      <td>...</td>\n",
       "      <td>1</td>\n",
       "      <td>0</td>\n",
       "      <td>0</td>\n",
       "      <td>0</td>\n",
       "      <td>0</td>\n",
       "      <td>0</td>\n",
       "      <td>0</td>\n",
       "      <td>0</td>\n",
       "      <td>0</td>\n",
       "      <td>0</td>\n",
       "    </tr>\n",
       "  </tbody>\n",
       "</table>\n",
       "<p>5 rows × 103 columns</p>\n",
       "</div>"
      ],
      "text/plain": [
       "   DataYear  ENERGYSTARScore  GHGEmissionsIntensity  NumberofBuildings  \\\n",
       "0      2015             65.0                   2.64                1.0   \n",
       "1      2015             51.0                   2.38                1.0   \n",
       "2      2015             18.0                   1.92                1.0   \n",
       "3      2015              NaN                    NaN                1.0   \n",
       "4      2015             67.0                   4.02                1.0   \n",
       "\n",
       "   NumberofFloors  OSEBuildingID  PropertyGFABuilding(s)  PropertyGFAParking  \\\n",
       "0            12.0              1                   88434                   0   \n",
       "1            11.0              2                   88502               15064   \n",
       "2            41.0              3                  961990                   0   \n",
       "3            10.0              5                   61320                   0   \n",
       "4            18.0              8                  107430               12460   \n",
       "\n",
       "   PropertyGFATotal  SiteEnergyUse(kBtu)  ...  Neighborhood_DOWNTOWN  \\\n",
       "0             88434            6981428.0  ...                      1   \n",
       "1            103566            8354235.0  ...                      1   \n",
       "2            961990                  NaN  ...                      1   \n",
       "3             61320           28229320.0  ...                      1   \n",
       "4            119890           14829099.0  ...                      1   \n",
       "\n",
       "   Neighborhood_EAST  Neighborhood_GREATER DUWAMISH  Neighborhood_LAKE UNION  \\\n",
       "0                  0                              0                        0   \n",
       "1                  0                              0                        0   \n",
       "2                  0                              0                        0   \n",
       "3                  0                              0                        0   \n",
       "4                  0                              0                        0   \n",
       "\n",
       "   Neighborhood_MAGNOLIA / QUEEN ANNE  Neighborhood_NORTH  \\\n",
       "0                                   0                   0   \n",
       "1                                   0                   0   \n",
       "2                                   0                   0   \n",
       "3                                   0                   0   \n",
       "4                                   0                   0   \n",
       "\n",
       "   Neighborhood_NORTHEAST  Neighborhood_NORTHWEST  Neighborhood_SOUTHEAST  \\\n",
       "0                       0                       0                       0   \n",
       "1                       0                       0                       0   \n",
       "2                       0                       0                       0   \n",
       "3                       0                       0                       0   \n",
       "4                       0                       0                       0   \n",
       "\n",
       "   Neighborhood_SOUTHWEST  \n",
       "0                       0  \n",
       "1                       0  \n",
       "2                       0  \n",
       "3                       0  \n",
       "4                       0  \n",
       "\n",
       "[5 rows x 103 columns]"
      ]
     },
     "execution_count": 3,
     "metadata": {},
     "output_type": "execute_result"
    }
   ],
   "source": [
    "data.head()"
   ]
  },
  {
   "cell_type": "code",
   "execution_count": 4,
   "metadata": {},
   "outputs": [],
   "source": [
    "from sklearn.linear_model import LinearRegression\n",
    "from sklearn.model_selection import train_test_split\n",
    "from sklearn.metrics import mean_squared_error, r2_score"
   ]
  },
  {
   "cell_type": "code",
   "execution_count": 5,
   "metadata": {
    "scrolled": false
   },
   "outputs": [],
   "source": [
    "df = data.dropna()"
   ]
  },
  {
   "cell_type": "code",
   "execution_count": null,
   "metadata": {},
   "outputs": [],
   "source": [
    "# TotalGHGEmissions\n",
    "# SiteEnergyUseWN(kBtu)"
   ]
  },
  {
   "cell_type": "code",
   "execution_count": 30,
   "metadata": {},
   "outputs": [],
   "source": [
    "X = df.drop(['SiteEnergyUseWN(kBtu)', 'TotalGHGEmissions'], axis=1)\n",
    "y = df[['SiteEnergyUseWN(kBtu)']]"
   ]
  },
  {
   "cell_type": "code",
   "execution_count": 31,
   "metadata": {},
   "outputs": [],
   "source": [
    "X_train, X_test, y_train, y_test = train_test_split(X, y, test_size=0.2, random_state=1)"
   ]
  },
  {
   "cell_type": "code",
   "execution_count": 32,
   "metadata": {},
   "outputs": [
    {
     "data": {
      "text/plain": [
       "LinearRegression(copy_X=True, fit_intercept=True, n_jobs=None, normalize=False)"
      ]
     },
     "execution_count": 32,
     "metadata": {},
     "output_type": "execute_result"
    }
   ],
   "source": [
    "reg = LinearRegression()\n",
    "reg.fit(X_train, y_train)"
   ]
  },
  {
   "cell_type": "code",
   "execution_count": 37,
   "metadata": {
    "scrolled": false
   },
   "outputs": [
    {
     "name": "stdout",
     "output_type": "stream",
     "text": [
      "Mean squared error: 486642.41\n",
      "R2 : 0.99\n",
      "      SiteEnergyUseWN(kBtu)\n",
      "1330              1918397.0\n",
      "5198               928743.5\n",
      "5088              3255291.5\n",
      "5512              1710190.5\n",
      "2115              1119314.0\n",
      "...                     ...\n",
      "5997               687486.0\n",
      "2016               312563.0\n",
      "36                1842702.0\n",
      "5085              4056815.5\n",
      "2617              7630779.0\n",
      "\n",
      "[925 rows x 1 columns]\n"
     ]
    }
   ],
   "source": [
    "y_predicted = reg.predict(X_test)\n",
    "print(\"Mean squared error: %.2f\"% np.sqrt(mean_squared_error(y_test, y_predicted)))\n",
    "print('R2 : %.2f' % r2_score(y_test, y_predicted))"
   ]
  },
  {
   "cell_type": "code",
   "execution_count": 27,
   "metadata": {},
   "outputs": [
    {
     "data": {
      "image/png": "[encoded data removed]",
      "text/plain": [
       "<Figure size 432x288 with 1 Axes>"
      ]
     },
     "metadata": {
      "needs_background": "light"
     },
     "output_type": "display_data"
    }
   ],
   "source": [
    "fig, ax = plt.subplots()\n",
    "ax.scatter(y_test, y_predicted)\n",
    "ax.plot([y_test.min(), y_test.max()], [y_test.min(), y_test.max()], lw=2, c=\"g\")\n",
    "ax.set_xlabel(\"measured\")\n",
    "ax.set_ylabel(\"predicted\")\n",
    "plt.show()"
   ]
  },
  {
   "cell_type": "code",
   "execution_count": null,
   "metadata": {},
   "outputs": [],
   "source": []
  }
 ],
 "metadata": {
  "kernelspec": {
   "display_name": "Python 3",
   "language": "python",
   "name": "python3"
  },
  "language_info": {
   "codemirror_mode": {
    "name": "ipython",
    "version": 3
   },
   "file_extension": ".py",
   "mimetype": "text/x-python",
   "name": "python",
   "nbconvert_exporter": "python",
   "pygments_lexer": "ipython3",
   "version": "3.7.4"
  }
 },
 "nbformat": 4,
 "nbformat_minor": 2
}
