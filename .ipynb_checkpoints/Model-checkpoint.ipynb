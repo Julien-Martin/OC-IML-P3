{
 "cells": [
  {
   "cell_type": "code",
   "execution_count": 1,
   "metadata": {},
   "outputs": [
    {
     "name": "stdout",
     "output_type": "stream",
     "text": [
      "['2015-building-energy-benchmarking.csv', '2016-building-energy-benchmarking.csv', 'clean-building-energy-benchmarking.csv', 'socrata_metadata_2015-building-energy-benchmarking.json', 'socrata_metadata_2016-building-energy-benchmarking.json']\n"
     ]
    }
   ],
   "source": [
    "import numpy as np\n",
    "import pandas as pd\n",
    "\n",
    "import seaborn as sns\n",
    "from matplotlib import pyplot as plt\n",
    "sns.set_style(\"whitegrid\")\n",
    "%matplotlib inline\n",
    "\n",
    "import warnings\n",
    "warnings.filterwarnings(\"ignore\")\n",
    "\n",
    "import os\n",
    "print(os.listdir(\"data\"))"
   ]
  },
  {
   "cell_type": "code",
   "execution_count": 2,
   "metadata": {},
   "outputs": [],
   "source": [
    "raw = pd.read_csv(\"data/clean-building-energy-benchmarking.csv\")\n",
    "data = raw.copy()"
   ]
  },
  {
   "cell_type": "code",
   "execution_count": 3,
   "metadata": {},
   "outputs": [
    {
     "data": {
      "text/html": [
       "<div>\n",
       "<style scoped>\n",
       "    .dataframe tbody tr th:only-of-type {\n",
       "        vertical-align: middle;\n",
       "    }\n",
       "\n",
       "    .dataframe tbody tr th {\n",
       "        vertical-align: top;\n",
       "    }\n",
       "\n",
       "    .dataframe thead th {\n",
       "        text-align: right;\n",
       "    }\n",
       "</style>\n",
       "<table border=\"1\" class=\"dataframe\">\n",
       "  <thead>\n",
       "    <tr style=\"text-align: right;\">\n",
       "      <th></th>\n",
       "      <th>DataYear</th>\n",
       "      <th>ENERGYSTARScore</th>\n",
       "      <th>NumberofBuildings</th>\n",
       "      <th>NumberofFloors</th>\n",
       "      <th>OSEBuildingID</th>\n",
       "      <th>PropertyGFABuilding(s)</th>\n",
       "      <th>PropertyGFAParking</th>\n",
       "      <th>PropertyGFATotal</th>\n",
       "      <th>SiteEnergyUseWN(kBtu)</th>\n",
       "      <th>TotalGHGEmissions</th>\n",
       "      <th>...</th>\n",
       "      <th>Neighborhood_EAST</th>\n",
       "      <th>Neighborhood_GREATER DUWAMISH</th>\n",
       "      <th>Neighborhood_LAKE UNION</th>\n",
       "      <th>Neighborhood_MAGNOLIA / QUEEN ANNE</th>\n",
       "      <th>Neighborhood_NORTH</th>\n",
       "      <th>Neighborhood_NORTHEAST</th>\n",
       "      <th>Neighborhood_NORTHWEST</th>\n",
       "      <th>Neighborhood_SOUTHEAST</th>\n",
       "      <th>Neighborhood_SOUTHWEST</th>\n",
       "      <th>ENERGYSTARCertified</th>\n",
       "    </tr>\n",
       "  </thead>\n",
       "  <tbody>\n",
       "    <tr>\n",
       "      <td>0</td>\n",
       "      <td>2015</td>\n",
       "      <td>65.0</td>\n",
       "      <td>1.0</td>\n",
       "      <td>12.0</td>\n",
       "      <td>1</td>\n",
       "      <td>88434</td>\n",
       "      <td>0</td>\n",
       "      <td>88434</td>\n",
       "      <td>7097539.0</td>\n",
       "      <td>249.43</td>\n",
       "      <td>...</td>\n",
       "      <td>0</td>\n",
       "      <td>0</td>\n",
       "      <td>0</td>\n",
       "      <td>0</td>\n",
       "      <td>0</td>\n",
       "      <td>0</td>\n",
       "      <td>0</td>\n",
       "      <td>0</td>\n",
       "      <td>0</td>\n",
       "      <td>0</td>\n",
       "    </tr>\n",
       "    <tr>\n",
       "      <td>1</td>\n",
       "      <td>2015</td>\n",
       "      <td>51.0</td>\n",
       "      <td>1.0</td>\n",
       "      <td>11.0</td>\n",
       "      <td>2</td>\n",
       "      <td>88502</td>\n",
       "      <td>15064</td>\n",
       "      <td>103566</td>\n",
       "      <td>8765788.0</td>\n",
       "      <td>263.51</td>\n",
       "      <td>...</td>\n",
       "      <td>0</td>\n",
       "      <td>0</td>\n",
       "      <td>0</td>\n",
       "      <td>0</td>\n",
       "      <td>0</td>\n",
       "      <td>0</td>\n",
       "      <td>0</td>\n",
       "      <td>0</td>\n",
       "      <td>0</td>\n",
       "      <td>0</td>\n",
       "    </tr>\n",
       "    <tr>\n",
       "      <td>2</td>\n",
       "      <td>2015</td>\n",
       "      <td>18.0</td>\n",
       "      <td>1.0</td>\n",
       "      <td>41.0</td>\n",
       "      <td>3</td>\n",
       "      <td>961990</td>\n",
       "      <td>0</td>\n",
       "      <td>961990</td>\n",
       "      <td>NaN</td>\n",
       "      <td>NaN</td>\n",
       "      <td>...</td>\n",
       "      <td>0</td>\n",
       "      <td>0</td>\n",
       "      <td>0</td>\n",
       "      <td>0</td>\n",
       "      <td>0</td>\n",
       "      <td>0</td>\n",
       "      <td>0</td>\n",
       "      <td>0</td>\n",
       "      <td>0</td>\n",
       "      <td>0</td>\n",
       "    </tr>\n",
       "    <tr>\n",
       "      <td>3</td>\n",
       "      <td>2015</td>\n",
       "      <td>NaN</td>\n",
       "      <td>1.0</td>\n",
       "      <td>10.0</td>\n",
       "      <td>5</td>\n",
       "      <td>61320</td>\n",
       "      <td>0</td>\n",
       "      <td>61320</td>\n",
       "      <td>28363444.0</td>\n",
       "      <td>NaN</td>\n",
       "      <td>...</td>\n",
       "      <td>0</td>\n",
       "      <td>0</td>\n",
       "      <td>0</td>\n",
       "      <td>0</td>\n",
       "      <td>0</td>\n",
       "      <td>0</td>\n",
       "      <td>0</td>\n",
       "      <td>0</td>\n",
       "      <td>0</td>\n",
       "      <td>0</td>\n",
       "    </tr>\n",
       "    <tr>\n",
       "      <td>4</td>\n",
       "      <td>2015</td>\n",
       "      <td>67.0</td>\n",
       "      <td>1.0</td>\n",
       "      <td>18.0</td>\n",
       "      <td>8</td>\n",
       "      <td>107430</td>\n",
       "      <td>12460</td>\n",
       "      <td>119890</td>\n",
       "      <td>15078243.0</td>\n",
       "      <td>507.70</td>\n",
       "      <td>...</td>\n",
       "      <td>0</td>\n",
       "      <td>0</td>\n",
       "      <td>0</td>\n",
       "      <td>0</td>\n",
       "      <td>0</td>\n",
       "      <td>0</td>\n",
       "      <td>0</td>\n",
       "      <td>0</td>\n",
       "      <td>0</td>\n",
       "      <td>0</td>\n",
       "    </tr>\n",
       "  </tbody>\n",
       "</table>\n",
       "<p>5 rows × 100 columns</p>\n",
       "</div>"
      ],
      "text/plain": [
       "   DataYear  ENERGYSTARScore  NumberofBuildings  NumberofFloors  \\\n",
       "0      2015             65.0                1.0            12.0   \n",
       "1      2015             51.0                1.0            11.0   \n",
       "2      2015             18.0                1.0            41.0   \n",
       "3      2015              NaN                1.0            10.0   \n",
       "4      2015             67.0                1.0            18.0   \n",
       "\n",
       "   OSEBuildingID  PropertyGFABuilding(s)  PropertyGFAParking  \\\n",
       "0              1                   88434                   0   \n",
       "1              2                   88502               15064   \n",
       "2              3                  961990                   0   \n",
       "3              5                   61320                   0   \n",
       "4              8                  107430               12460   \n",
       "\n",
       "   PropertyGFATotal  SiteEnergyUseWN(kBtu)  TotalGHGEmissions  ...  \\\n",
       "0             88434              7097539.0             249.43  ...   \n",
       "1            103566              8765788.0             263.51  ...   \n",
       "2            961990                    NaN                NaN  ...   \n",
       "3             61320             28363444.0                NaN  ...   \n",
       "4            119890             15078243.0             507.70  ...   \n",
       "\n",
       "   Neighborhood_EAST  Neighborhood_GREATER DUWAMISH  Neighborhood_LAKE UNION  \\\n",
       "0                  0                              0                        0   \n",
       "1                  0                              0                        0   \n",
       "2                  0                              0                        0   \n",
       "3                  0                              0                        0   \n",
       "4                  0                              0                        0   \n",
       "\n",
       "   Neighborhood_MAGNOLIA / QUEEN ANNE  Neighborhood_NORTH  \\\n",
       "0                                   0                   0   \n",
       "1                                   0                   0   \n",
       "2                                   0                   0   \n",
       "3                                   0                   0   \n",
       "4                                   0                   0   \n",
       "\n",
       "   Neighborhood_NORTHEAST  Neighborhood_NORTHWEST  Neighborhood_SOUTHEAST  \\\n",
       "0                       0                       0                       0   \n",
       "1                       0                       0                       0   \n",
       "2                       0                       0                       0   \n",
       "3                       0                       0                       0   \n",
       "4                       0                       0                       0   \n",
       "\n",
       "   Neighborhood_SOUTHWEST  ENERGYSTARCertified  \n",
       "0                       0                    0  \n",
       "1                       0                    0  \n",
       "2                       0                    0  \n",
       "3                       0                    0  \n",
       "4                       0                    0  \n",
       "\n",
       "[5 rows x 100 columns]"
      ]
     },
     "execution_count": 3,
     "metadata": {},
     "output_type": "execute_result"
    }
   ],
   "source": [
    "data.head()"
   ]
  },
  {
   "cell_type": "code",
   "execution_count": 5,
   "metadata": {},
   "outputs": [],
   "source": [
    "from sklearn.impute import SimpleImputer\n",
    "from sklearn.preprocessing import StandardScaler, scale\n",
    "from sklearn.model_selection import train_test_split, GridSearchCV, RandomizedSearchCV\n",
    "from sklearn.metrics import mean_squared_error, r2_score, make_scorer\n",
    "import time\n",
    "\n",
    "from sklearn.linear_model import LinearRegression, Ridge, Lasso\n",
    "from sklearn.svm import SVR\n",
    "from sklearn.ensemble import RandomForestRegressor"
   ]
  },
  {
   "cell_type": "code",
   "execution_count": 51,
   "metadata": {},
   "outputs": [],
   "source": [
    "def test(models, X_train, X_test, y_train, y_test):\n",
    "    results = {}\n",
    "    for i in models:\n",
    "        start_time = time.time()\n",
    "        models[i].fit(X_train, y_train)\n",
    "        y_pred = models[i].predict(X_test)\n",
    "        r2_predict = r2_score(y_test, y_pred)\n",
    "        rmse = np.sqrt(mean_squared_error(y_test, y_pred))\n",
    "        end_time = time.time() - start_time\n",
    "        results[i] = [r2_predict, rmse, end_time]\n",
    "    return pd.DataFrame(results, index=[\"R2 Score\", \"RMSE\", \"Time\"])"
   ]
  },
  {
   "cell_type": "code",
   "execution_count": 4,
   "metadata": {},
   "outputs": [],
   "source": [
    "df = data.copy()"
   ]
  },
  {
   "cell_type": "code",
   "execution_count": 7,
   "metadata": {},
   "outputs": [],
   "source": [
    "df.dropna(subset=['TotalGHGEmissions', 'SiteEnergyUseWN(kBtu)', 'ENERGYSTARScore'], inplace=True)"
   ]
  },
  {
   "cell_type": "markdown",
   "metadata": {},
   "source": [
    "# TotalGHGEmissions"
   ]
  },
  {
   "cell_type": "code",
   "execution_count": 8,
   "metadata": {},
   "outputs": [],
   "source": [
    "X = df.drop([\"TotalGHGEmissions\", \"SiteEnergyUseWN(kBtu)\", \"ENERGYSTARScore\"], axis=1)\n",
    "y = df[[\"TotalGHGEmissions\"]]"
   ]
  },
  {
   "cell_type": "code",
   "execution_count": 9,
   "metadata": {},
   "outputs": [],
   "source": [
    "X_train, X_test, y_train, y_test = train_test_split(X, y, test_size=0.2, random_state=1)"
   ]
  },
  {
   "cell_type": "code",
   "execution_count": 10,
   "metadata": {},
   "outputs": [],
   "source": [
    "imputer = SimpleImputer(strategy=\"mean\")\n",
    "X_train = imputer.fit_transform(X_train)\n",
    "X_test = imputer.transform(X_test)"
   ]
  },
  {
   "cell_type": "code",
   "execution_count": 11,
   "metadata": {},
   "outputs": [],
   "source": [
    "sc = StandardScaler()\n",
    "X_train = sc.fit_transform(X_train)\n",
    "X_test = sc.transform(X_test)"
   ]
  },
  {
   "cell_type": "code",
   "execution_count": 12,
   "metadata": {},
   "outputs": [],
   "source": [
    "models = {'OLS': LinearRegression(),\n",
    "          'Lasso': Lasso(),\n",
    "          'Ridge': Ridge(),\n",
    "          'SVM': SVR(kernel=\"linear\"),\n",
    "          'Random Forest': RandomForestRegressor(),\n",
    "         }"
   ]
  },
  {
   "cell_type": "code",
   "execution_count": 13,
   "metadata": {
    "scrolled": false
   },
   "outputs": [],
   "source": [
    "baseline_ghg = test(models, X_train, X_test, y_train, y_test)"
   ]
  },
  {
   "cell_type": "code",
   "execution_count": 14,
   "metadata": {},
   "outputs": [
    {
     "data": {
      "text/html": [
       "<div>\n",
       "<style scoped>\n",
       "    .dataframe tbody tr th:only-of-type {\n",
       "        vertical-align: middle;\n",
       "    }\n",
       "\n",
       "    .dataframe tbody tr th {\n",
       "        vertical-align: top;\n",
       "    }\n",
       "\n",
       "    .dataframe thead th {\n",
       "        text-align: right;\n",
       "    }\n",
       "</style>\n",
       "<table border=\"1\" class=\"dataframe\">\n",
       "  <thead>\n",
       "    <tr style=\"text-align: right;\">\n",
       "      <th></th>\n",
       "      <th>OLS</th>\n",
       "      <th>Lasso</th>\n",
       "      <th>Ridge</th>\n",
       "      <th>SVM</th>\n",
       "      <th>Random Forest</th>\n",
       "    </tr>\n",
       "  </thead>\n",
       "  <tbody>\n",
       "    <tr>\n",
       "      <td>R2 Score</td>\n",
       "      <td>0.393114</td>\n",
       "      <td>0.543260</td>\n",
       "      <td>0.535914</td>\n",
       "      <td>0.446793</td>\n",
       "      <td>0.785375</td>\n",
       "    </tr>\n",
       "    <tr>\n",
       "      <td>RMSE</td>\n",
       "      <td>85.247178</td>\n",
       "      <td>73.953882</td>\n",
       "      <td>74.546229</td>\n",
       "      <td>81.389879</td>\n",
       "      <td>50.695121</td>\n",
       "    </tr>\n",
       "    <tr>\n",
       "      <td>Time</td>\n",
       "      <td>0.010971</td>\n",
       "      <td>0.031914</td>\n",
       "      <td>0.003989</td>\n",
       "      <td>1.963860</td>\n",
       "      <td>0.292241</td>\n",
       "    </tr>\n",
       "  </tbody>\n",
       "</table>\n",
       "</div>"
      ],
      "text/plain": [
       "                OLS      Lasso      Ridge        SVM  Random Forest\n",
       "R2 Score   0.393114   0.543260   0.535914   0.446793       0.785375\n",
       "RMSE      85.247178  73.953882  74.546229  81.389879      50.695121\n",
       "Time       0.010971   0.031914   0.003989   1.963860       0.292241"
      ]
     },
     "execution_count": 14,
     "metadata": {},
     "output_type": "execute_result"
    }
   ],
   "source": [
    "baseline_ghg"
   ]
  },
  {
   "cell_type": "code",
   "execution_count": 15,
   "metadata": {},
   "outputs": [
    {
     "name": "stdout",
     "output_type": "stream",
     "text": [
      "Fitting 3 folds for each of 20 candidates, totalling 60 fits\n"
     ]
    },
    {
     "name": "stderr",
     "output_type": "stream",
     "text": [
      "[Parallel(n_jobs=-1)]: Using backend LokyBackend with 16 concurrent workers.\n",
      "[Parallel(n_jobs=-1)]: Done  42 out of  60 | elapsed:    3.7s remaining:    1.5s\n",
      "[Parallel(n_jobs=-1)]: Done  55 out of  60 | elapsed:    3.9s remaining:    0.3s\n",
      "[Parallel(n_jobs=-1)]: Done  60 out of  60 | elapsed:    4.0s finished\n"
     ]
    },
    {
     "data": {
      "text/plain": [
       "Lasso(alpha=0.1, copy_X=True, fit_intercept=True, max_iter=1000,\n",
       "      normalize=False, positive=False, precompute=False, random_state=None,\n",
       "      selection='cyclic', tol=0.0001, warm_start=False)"
      ]
     },
     "execution_count": 15,
     "metadata": {},
     "output_type": "execute_result"
    }
   ],
   "source": [
    "lasso_params = {'alpha': np.logspace(-2, -1, 20)}\n",
    "\n",
    "grid_lasso = GridSearchCV(Lasso(), param_grid=lasso_params, n_jobs=-1, verbose = 5)\n",
    "grid_lasso.fit(X_train, y_train)\n",
    "grid_lasso.best_estimator_"
   ]
  },
  {
   "cell_type": "code",
   "execution_count": 16,
   "metadata": {},
   "outputs": [
    {
     "name": "stdout",
     "output_type": "stream",
     "text": [
      "Fitting 3 folds for each of 20 candidates, totalling 60 fits\n"
     ]
    },
    {
     "name": "stderr",
     "output_type": "stream",
     "text": [
      "[Parallel(n_jobs=-1)]: Using backend LokyBackend with 16 concurrent workers.\n",
      "[Parallel(n_jobs=-1)]: Done  16 out of  60 | elapsed:    0.0s remaining:    0.1s\n",
      "[Parallel(n_jobs=-1)]: Done  29 out of  60 | elapsed:    0.0s remaining:    0.0s\n",
      "[Parallel(n_jobs=-1)]: Done  60 out of  60 | elapsed:    0.1s finished\n"
     ]
    },
    {
     "data": {
      "text/plain": [
       "Ridge(alpha=233.57214690901213, copy_X=True, fit_intercept=True, max_iter=None,\n",
       "      normalize=False, random_state=None, solver='auto', tol=0.001)"
      ]
     },
     "execution_count": 16,
     "metadata": {},
     "output_type": "execute_result"
    }
   ],
   "source": [
    "ridge_params = {'alpha': np.logspace(-5, 5, 20)}\n",
    "\n",
    "grid_ridge = GridSearchCV(Ridge(), param_grid=ridge_params, n_jobs=-1, verbose = 5)\n",
    "grid_ridge.fit(X_train, y_train)\n",
    "grid_ridge.best_estimator_"
   ]
  },
  {
   "cell_type": "code",
   "execution_count": 17,
   "metadata": {},
   "outputs": [
    {
     "name": "stderr",
     "output_type": "stream",
     "text": [
      "[Parallel(n_jobs=-1)]: Using backend LokyBackend with 16 concurrent workers.\n"
     ]
    },
    {
     "name": "stdout",
     "output_type": "stream",
     "text": [
      "Fitting 3 folds for each of 3 candidates, totalling 9 fits\n"
     ]
    },
    {
     "name": "stderr",
     "output_type": "stream",
     "text": [
      "[Parallel(n_jobs=-1)]: Done   2 out of   9 | elapsed:    1.3s remaining:    4.8s\n",
      "[Parallel(n_jobs=-1)]: Done   4 out of   9 | elapsed:    1.8s remaining:    2.3s\n",
      "[Parallel(n_jobs=-1)]: Done   6 out of   9 | elapsed:    2.1s remaining:    1.0s\n",
      "[Parallel(n_jobs=-1)]: Done   9 out of   9 | elapsed:   11.2s finished\n"
     ]
    },
    {
     "data": {
      "text/plain": [
       "SVR(C=100.0, cache_size=200, coef0=0.0, degree=3, epsilon=0.1,\n",
       "    gamma='auto_deprecated', kernel='linear', max_iter=-1, shrinking=True,\n",
       "    tol=0.001, verbose=False)"
      ]
     },
     "execution_count": 17,
     "metadata": {},
     "output_type": "execute_result"
    }
   ],
   "source": [
    "svm_params = {'kernel': ['linear'], 'C': np.logspace(0, 2, 3)}\n",
    "grid_svm = GridSearchCV(SVR(), param_grid=svm_params, n_jobs=-1, verbose = 5)\n",
    "grid_svm.fit(X_train, y_train)\n",
    "grid_svm.best_estimator_"
   ]
  },
  {
   "cell_type": "code",
   "execution_count": 18,
   "metadata": {},
   "outputs": [
    {
     "name": "stdout",
     "output_type": "stream",
     "text": [
      "Fitting 3 folds for each of 100 candidates, totalling 300 fits\n"
     ]
    },
    {
     "name": "stderr",
     "output_type": "stream",
     "text": [
      "[Parallel(n_jobs=-1)]: Using backend LokyBackend with 16 concurrent workers.\n",
      "[Parallel(n_jobs=-1)]: Done  40 tasks      | elapsed:   31.8s\n",
      "[Parallel(n_jobs=-1)]: Done 130 tasks      | elapsed:  2.7min\n",
      "[Parallel(n_jobs=-1)]: Done 256 tasks      | elapsed:  5.0min\n",
      "[Parallel(n_jobs=-1)]: Done 300 out of 300 | elapsed:  5.6min finished\n"
     ]
    },
    {
     "data": {
      "text/plain": [
       "RandomForestRegressor(bootstrap=False, criterion='mse', max_depth=60,\n",
       "                      max_features='sqrt', max_leaf_nodes=None,\n",
       "                      min_impurity_decrease=0.0, min_impurity_split=None,\n",
       "                      min_samples_leaf=1, min_samples_split=2,\n",
       "                      min_weight_fraction_leaf=0.0, n_estimators=400,\n",
       "                      n_jobs=None, oob_score=False, random_state=None,\n",
       "                      verbose=0, warm_start=False)"
      ]
     },
     "execution_count": 18,
     "metadata": {},
     "output_type": "execute_result"
    }
   ],
   "source": [
    "rfr_params = {'bootstrap': [True, False],\n",
    "              'max_depth': [10, 20, 30, 40, 50, 60, 70, 80, 90, 100, None],\n",
    "              'max_features': ['auto', 'sqrt'],\n",
    "              'min_samples_leaf': [1, 2, 4],\n",
    "              'min_samples_split': [2, 5, 10],\n",
    "              'n_estimators': [200, 400, 600, 800, 1000, 1200, 1400, 1600, 1800, 2000]}\n",
    "\n",
    "random_rfr = RandomizedSearchCV(RandomForestRegressor(), param_distributions=rfr_params, n_iter=100, cv=3, verbose=5, n_jobs=-1)\n",
    "random_rfr.fit(X_train, y_train)\n",
    "random_rfr.best_estimator_"
   ]
  },
  {
   "cell_type": "code",
   "execution_count": 19,
   "metadata": {},
   "outputs": [],
   "source": [
    "models2 = {'OLS': LinearRegression(),\n",
    "           'Lasso': grid_lasso.best_estimator_,\n",
    "           'Ridge': grid_ridge.best_estimator_,\n",
    "           'SVM': grid_svm.best_estimator_,\n",
    "           'Random Forest': random_rfr.best_estimator_}"
   ]
  },
  {
   "cell_type": "code",
   "execution_count": 20,
   "metadata": {},
   "outputs": [
    {
     "data": {
      "text/html": [
       "<div>\n",
       "<style scoped>\n",
       "    .dataframe tbody tr th:only-of-type {\n",
       "        vertical-align: middle;\n",
       "    }\n",
       "\n",
       "    .dataframe tbody tr th {\n",
       "        vertical-align: top;\n",
       "    }\n",
       "\n",
       "    .dataframe thead th {\n",
       "        text-align: right;\n",
       "    }\n",
       "</style>\n",
       "<table border=\"1\" class=\"dataframe\">\n",
       "  <thead>\n",
       "    <tr style=\"text-align: right;\">\n",
       "      <th></th>\n",
       "      <th>OLS</th>\n",
       "      <th>Lasso</th>\n",
       "      <th>Ridge</th>\n",
       "      <th>SVM</th>\n",
       "      <th>Random Forest</th>\n",
       "    </tr>\n",
       "  </thead>\n",
       "  <tbody>\n",
       "    <tr>\n",
       "      <td>R2 Score</td>\n",
       "      <td>0.393114</td>\n",
       "      <td>0.551180</td>\n",
       "      <td>0.540757</td>\n",
       "      <td>0.448580</td>\n",
       "      <td>0.795122</td>\n",
       "    </tr>\n",
       "    <tr>\n",
       "      <td>RMSE</td>\n",
       "      <td>85.247178</td>\n",
       "      <td>73.309862</td>\n",
       "      <td>74.156232</td>\n",
       "      <td>81.258284</td>\n",
       "      <td>49.530608</td>\n",
       "    </tr>\n",
       "    <tr>\n",
       "      <td>Time</td>\n",
       "      <td>0.009973</td>\n",
       "      <td>0.190491</td>\n",
       "      <td>0.004986</td>\n",
       "      <td>18.304625</td>\n",
       "      <td>3.944610</td>\n",
       "    </tr>\n",
       "  </tbody>\n",
       "</table>\n",
       "</div>"
      ],
      "text/plain": [
       "                OLS      Lasso      Ridge        SVM  Random Forest\n",
       "R2 Score   0.393114   0.551180   0.540757   0.448580       0.795122\n",
       "RMSE      85.247178  73.309862  74.156232  81.258284      49.530608\n",
       "Time       0.009973   0.190491   0.004986  18.304625       3.944610"
      ]
     },
     "execution_count": 20,
     "metadata": {},
     "output_type": "execute_result"
    }
   ],
   "source": [
    "optimize_ghg = test(models2, X_train, X_test, y_train, y_test)\n",
    "optimize_ghg"
   ]
  },
  {
   "cell_type": "code",
   "execution_count": 21,
   "metadata": {},
   "outputs": [
    {
     "data": {
      "text/html": [
       "<div>\n",
       "<style scoped>\n",
       "    .dataframe tbody tr th:only-of-type {\n",
       "        vertical-align: middle;\n",
       "    }\n",
       "\n",
       "    .dataframe tbody tr th {\n",
       "        vertical-align: top;\n",
       "    }\n",
       "\n",
       "    .dataframe thead th {\n",
       "        text-align: right;\n",
       "    }\n",
       "</style>\n",
       "<table border=\"1\" class=\"dataframe\">\n",
       "  <thead>\n",
       "    <tr style=\"text-align: right;\">\n",
       "      <th></th>\n",
       "      <th></th>\n",
       "      <th>OLS</th>\n",
       "      <th>Lasso</th>\n",
       "      <th>Ridge</th>\n",
       "      <th>SVM</th>\n",
       "      <th>Random Forest</th>\n",
       "    </tr>\n",
       "  </thead>\n",
       "  <tbody>\n",
       "    <tr>\n",
       "      <td rowspan=\"3\" valign=\"top\">Baseline</td>\n",
       "      <td>R2 Score</td>\n",
       "      <td>0.393114</td>\n",
       "      <td>0.543260</td>\n",
       "      <td>0.535914</td>\n",
       "      <td>0.446793</td>\n",
       "      <td>0.785375</td>\n",
       "    </tr>\n",
       "    <tr>\n",
       "      <td>RMSE</td>\n",
       "      <td>85.247178</td>\n",
       "      <td>73.953882</td>\n",
       "      <td>74.546229</td>\n",
       "      <td>81.389879</td>\n",
       "      <td>50.695121</td>\n",
       "    </tr>\n",
       "    <tr>\n",
       "      <td>Time</td>\n",
       "      <td>0.010971</td>\n",
       "      <td>0.031914</td>\n",
       "      <td>0.003989</td>\n",
       "      <td>1.963860</td>\n",
       "      <td>0.292241</td>\n",
       "    </tr>\n",
       "    <tr>\n",
       "      <td rowspan=\"3\" valign=\"top\">Optimize</td>\n",
       "      <td>R2 Score</td>\n",
       "      <td>0.393114</td>\n",
       "      <td>0.551180</td>\n",
       "      <td>0.540757</td>\n",
       "      <td>0.448580</td>\n",
       "      <td>0.795122</td>\n",
       "    </tr>\n",
       "    <tr>\n",
       "      <td>RMSE</td>\n",
       "      <td>85.247178</td>\n",
       "      <td>73.309862</td>\n",
       "      <td>74.156232</td>\n",
       "      <td>81.258284</td>\n",
       "      <td>49.530608</td>\n",
       "    </tr>\n",
       "    <tr>\n",
       "      <td>Time</td>\n",
       "      <td>0.009973</td>\n",
       "      <td>0.190491</td>\n",
       "      <td>0.004986</td>\n",
       "      <td>18.304625</td>\n",
       "      <td>3.944610</td>\n",
       "    </tr>\n",
       "  </tbody>\n",
       "</table>\n",
       "</div>"
      ],
      "text/plain": [
       "                         OLS      Lasso      Ridge        SVM  Random Forest\n",
       "Baseline R2 Score   0.393114   0.543260   0.535914   0.446793       0.785375\n",
       "         RMSE      85.247178  73.953882  74.546229  81.389879      50.695121\n",
       "         Time       0.010971   0.031914   0.003989   1.963860       0.292241\n",
       "Optimize R2 Score   0.393114   0.551180   0.540757   0.448580       0.795122\n",
       "         RMSE      85.247178  73.309862  74.156232  81.258284      49.530608\n",
       "         Time       0.009973   0.190491   0.004986  18.304625       3.944610"
      ]
     },
     "execution_count": 21,
     "metadata": {},
     "output_type": "execute_result"
    }
   ],
   "source": [
    "scores_ghg = pd.concat([baseline_ghg, optimize_ghg], keys=['Baseline', 'Optimize'])\n",
    "scores_ghg"
   ]
  },
  {
   "cell_type": "markdown",
   "metadata": {},
   "source": [
    "## SiteEnergyUseWN(kBtu)"
   ]
  },
  {
   "cell_type": "code",
   "execution_count": 52,
   "metadata": {},
   "outputs": [],
   "source": [
    "X = df.drop([\"TotalGHGEmissions\", \"SiteEnergyUseWN(kBtu)\", \"ENERGYSTARScore\"], axis=1)\n",
    "y = df[[\"SiteEnergyUseWN(kBtu)\"]]"
   ]
  },
  {
   "cell_type": "code",
   "execution_count": 53,
   "metadata": {},
   "outputs": [],
   "source": [
    "X_train, X_test, y_train, y_test = train_test_split(X, y, test_size=0.2, random_state=1)"
   ]
  },
  {
   "cell_type": "code",
   "execution_count": 54,
   "metadata": {},
   "outputs": [],
   "source": [
    "imputer = SimpleImputer(strategy=\"mean\")\n",
    "X_train = imputer.fit_transform(X_train)\n",
    "X_test = imputer.transform(X_test)"
   ]
  },
  {
   "cell_type": "code",
   "execution_count": 55,
   "metadata": {},
   "outputs": [],
   "source": [
    "sc = StandardScaler()\n",
    "X_train = sc.fit_transform(X_train)\n",
    "X_test = sc.transform(X_test)"
   ]
  },
  {
   "cell_type": "code",
   "execution_count": 56,
   "metadata": {},
   "outputs": [],
   "source": [
    "baseline_energy = test(models, X_train, X_test, y_train, y_test)"
   ]
  },
  {
   "cell_type": "code",
   "execution_count": 57,
   "metadata": {},
   "outputs": [],
   "source": [
    "optimize_energy = test(models2, X_train, X_test, y_train, y_test)"
   ]
  },
  {
   "cell_type": "code",
   "execution_count": 70,
   "metadata": {},
   "outputs": [
    {
     "data": {
      "text/html": [
       "<div>\n",
       "<style scoped>\n",
       "    .dataframe tbody tr th:only-of-type {\n",
       "        vertical-align: middle;\n",
       "    }\n",
       "\n",
       "    .dataframe tbody tr th {\n",
       "        vertical-align: top;\n",
       "    }\n",
       "\n",
       "    .dataframe thead th {\n",
       "        text-align: right;\n",
       "    }\n",
       "</style>\n",
       "<table border=\"1\" class=\"dataframe\">\n",
       "  <thead>\n",
       "    <tr style=\"text-align: right;\">\n",
       "      <th></th>\n",
       "      <th></th>\n",
       "      <th>OLS</th>\n",
       "      <th>Lasso</th>\n",
       "      <th>Ridge</th>\n",
       "      <th>SVM</th>\n",
       "      <th>Random Forest</th>\n",
       "    </tr>\n",
       "  </thead>\n",
       "  <tbody>\n",
       "    <tr>\n",
       "      <td rowspan=\"3\" valign=\"top\">Baseline</td>\n",
       "      <td>R2 Score</td>\n",
       "      <td>6.762000e-01</td>\n",
       "      <td>5.641000e-01</td>\n",
       "      <td>5.643000e-01</td>\n",
       "      <td>-1.382000e-01</td>\n",
       "      <td>8.325000e-01</td>\n",
       "    </tr>\n",
       "    <tr>\n",
       "      <td>RMSE</td>\n",
       "      <td>2.622389e+06</td>\n",
       "      <td>3.042724e+06</td>\n",
       "      <td>3.041984e+06</td>\n",
       "      <td>4.916434e+06</td>\n",
       "      <td>1.886242e+06</td>\n",
       "    </tr>\n",
       "    <tr>\n",
       "      <td>Time</td>\n",
       "      <td>9.900000e-03</td>\n",
       "      <td>2.154000e-01</td>\n",
       "      <td>5.000000e-03</td>\n",
       "      <td>1.706500e+00</td>\n",
       "      <td>2.744000e-01</td>\n",
       "    </tr>\n",
       "    <tr>\n",
       "      <td rowspan=\"3\" valign=\"top\">Optimize</td>\n",
       "      <td>R2 Score</td>\n",
       "      <td>6.762000e-01</td>\n",
       "      <td>5.640000e-01</td>\n",
       "      <td>6.001000e-01</td>\n",
       "      <td>5.110000e-02</td>\n",
       "      <td>8.824000e-01</td>\n",
       "    </tr>\n",
       "    <tr>\n",
       "      <td>RMSE</td>\n",
       "      <td>2.622389e+06</td>\n",
       "      <td>3.042840e+06</td>\n",
       "      <td>2.914192e+06</td>\n",
       "      <td>4.489220e+06</td>\n",
       "      <td>1.580436e+06</td>\n",
       "    </tr>\n",
       "    <tr>\n",
       "      <td>Time</td>\n",
       "      <td>1.090000e-02</td>\n",
       "      <td>2.084000e-01</td>\n",
       "      <td>4.000000e-03</td>\n",
       "      <td>1.704500e+00</td>\n",
       "      <td>3.957200e+00</td>\n",
       "    </tr>\n",
       "  </tbody>\n",
       "</table>\n",
       "</div>"
      ],
      "text/plain": [
       "                            OLS         Lasso         Ridge           SVM  \\\n",
       "Baseline R2 Score  6.762000e-01  5.641000e-01  5.643000e-01 -1.382000e-01   \n",
       "         RMSE      2.622389e+06  3.042724e+06  3.041984e+06  4.916434e+06   \n",
       "         Time      9.900000e-03  2.154000e-01  5.000000e-03  1.706500e+00   \n",
       "Optimize R2 Score  6.762000e-01  5.640000e-01  6.001000e-01  5.110000e-02   \n",
       "         RMSE      2.622389e+06  3.042840e+06  2.914192e+06  4.489220e+06   \n",
       "         Time      1.090000e-02  2.084000e-01  4.000000e-03  1.704500e+00   \n",
       "\n",
       "                   Random Forest  \n",
       "Baseline R2 Score   8.325000e-01  \n",
       "         RMSE       1.886242e+06  \n",
       "         Time       2.744000e-01  \n",
       "Optimize R2 Score   8.824000e-01  \n",
       "         RMSE       1.580436e+06  \n",
       "         Time       3.957200e+00  "
      ]
     },
     "execution_count": 70,
     "metadata": {},
     "output_type": "execute_result"
    }
   ],
   "source": [
    "scores_energy = pd.concat([baseline_energy, optimize_energy], keys=['Baseline', 'Optimize'])\n",
    "scores_energy"
   ]
  },
  {
   "cell_type": "markdown",
   "metadata": {},
   "source": [
    "## EnergyStarScore"
   ]
  },
  {
   "cell_type": "markdown",
   "metadata": {},
   "source": [
    "Nous allons mesurer l'intérêt de l'EnergyStarScore pour la prédiction de TotalGHGEmissions"
   ]
  },
  {
   "cell_type": "code",
   "execution_count": 29,
   "metadata": {},
   "outputs": [],
   "source": [
    "df = data.copy()"
   ]
  },
  {
   "cell_type": "code",
   "execution_count": 30,
   "metadata": {},
   "outputs": [],
   "source": [
    "df.dropna(subset=['TotalGHGEmissions', 'ENERGYSTARScore'], inplace=True)\n",
    "df = df.drop(\"SiteEnergyUseWN(kBtu)\", axis=1)"
   ]
  },
  {
   "cell_type": "code",
   "execution_count": 31,
   "metadata": {},
   "outputs": [],
   "source": [
    "X = df.drop([\"TotalGHGEmissions\"], axis=1)\n",
    "y = df[[\"TotalGHGEmissions\"]]"
   ]
  },
  {
   "cell_type": "code",
   "execution_count": 32,
   "metadata": {},
   "outputs": [],
   "source": [
    "X_train, X_test, y_train, y_test = train_test_split(X, y, test_size=0.2, random_state=1)"
   ]
  },
  {
   "cell_type": "code",
   "execution_count": 33,
   "metadata": {},
   "outputs": [],
   "source": [
    "imputer = SimpleImputer(strategy=\"mean\")\n",
    "X_train = imputer.fit_transform(X_train)\n",
    "X_test = imputer.transform(X_test)"
   ]
  },
  {
   "cell_type": "code",
   "execution_count": 34,
   "metadata": {},
   "outputs": [],
   "source": [
    "sc = StandardScaler()\n",
    "X_train = sc.fit_transform(X_train)\n",
    "X_test = sc.transform(X_test)"
   ]
  },
  {
   "cell_type": "code",
   "execution_count": 35,
   "metadata": {},
   "outputs": [],
   "source": [
    "baseline_ghg_ess = test(models, X_train, X_test, y_train, y_test)"
   ]
  },
  {
   "cell_type": "code",
   "execution_count": 36,
   "metadata": {},
   "outputs": [],
   "source": [
    "optimize_ghg_ess = test(models2, X_train, X_test, y_train, y_test)"
   ]
  },
  {
   "cell_type": "code",
   "execution_count": 65,
   "metadata": {},
   "outputs": [
    {
     "data": {
      "text/html": [
       "<div>\n",
       "<style scoped>\n",
       "    .dataframe tbody tr th:only-of-type {\n",
       "        vertical-align: middle;\n",
       "    }\n",
       "\n",
       "    .dataframe tbody tr th {\n",
       "        vertical-align: top;\n",
       "    }\n",
       "\n",
       "    .dataframe thead th {\n",
       "        text-align: right;\n",
       "    }\n",
       "</style>\n",
       "<table border=\"1\" class=\"dataframe\">\n",
       "  <thead>\n",
       "    <tr style=\"text-align: right;\">\n",
       "      <th></th>\n",
       "      <th></th>\n",
       "      <th>OLS</th>\n",
       "      <th>Lasso</th>\n",
       "      <th>Ridge</th>\n",
       "      <th>SVM</th>\n",
       "      <th>Random Forest</th>\n",
       "    </tr>\n",
       "  </thead>\n",
       "  <tbody>\n",
       "    <tr>\n",
       "      <td rowspan=\"3\" valign=\"top\">Baseline</td>\n",
       "      <td>R2 Score</td>\n",
       "      <td>-2.688221e+23</td>\n",
       "      <td>0.6250</td>\n",
       "      <td>0.5952</td>\n",
       "      <td>0.5469</td>\n",
       "      <td>0.8143</td>\n",
       "    </tr>\n",
       "    <tr>\n",
       "      <td>RMSE</td>\n",
       "      <td>5.933975e+13</td>\n",
       "      <td>70.0901</td>\n",
       "      <td>72.8181</td>\n",
       "      <td>77.0350</td>\n",
       "      <td>49.3186</td>\n",
       "    </tr>\n",
       "    <tr>\n",
       "      <td>Time</td>\n",
       "      <td>1.300000e-02</td>\n",
       "      <td>0.0728</td>\n",
       "      <td>0.0040</td>\n",
       "      <td>1.9973</td>\n",
       "      <td>0.3098</td>\n",
       "    </tr>\n",
       "    <tr>\n",
       "      <td rowspan=\"3\" valign=\"top\">Optimize</td>\n",
       "      <td>R2 Score</td>\n",
       "      <td>-2.688221e+23</td>\n",
       "      <td>0.6249</td>\n",
       "      <td>0.6125</td>\n",
       "      <td>0.5498</td>\n",
       "      <td>0.8877</td>\n",
       "    </tr>\n",
       "    <tr>\n",
       "      <td>RMSE</td>\n",
       "      <td>5.933975e+13</td>\n",
       "      <td>70.0958</td>\n",
       "      <td>71.2481</td>\n",
       "      <td>76.7936</td>\n",
       "      <td>38.3607</td>\n",
       "    </tr>\n",
       "    <tr>\n",
       "      <td>Time</td>\n",
       "      <td>1.100000e-02</td>\n",
       "      <td>0.1725</td>\n",
       "      <td>0.0070</td>\n",
       "      <td>16.2444</td>\n",
       "      <td>4.0352</td>\n",
       "    </tr>\n",
       "  </tbody>\n",
       "</table>\n",
       "</div>"
      ],
      "text/plain": [
       "                            OLS    Lasso    Ridge      SVM  Random Forest\n",
       "Baseline R2 Score -2.688221e+23   0.6250   0.5952   0.5469         0.8143\n",
       "         RMSE      5.933975e+13  70.0901  72.8181  77.0350        49.3186\n",
       "         Time      1.300000e-02   0.0728   0.0040   1.9973         0.3098\n",
       "Optimize R2 Score -2.688221e+23   0.6249   0.6125   0.5498         0.8877\n",
       "         RMSE      5.933975e+13  70.0958  71.2481  76.7936        38.3607\n",
       "         Time      1.100000e-02   0.1725   0.0070  16.2444         4.0352"
      ]
     },
     "execution_count": 65,
     "metadata": {},
     "output_type": "execute_result"
    }
   ],
   "source": [
    "scores_ghg_ess = pd.concat([baseline_ghg_ess, optimize_ghg_ess], keys=['Baseline', 'Optimize'])\n",
    "scores_ghg_ess"
   ]
  },
  {
   "cell_type": "code",
   "execution_count": 72,
   "metadata": {},
   "outputs": [
    {
     "data": {
      "text/html": [
       "<div>\n",
       "<style scoped>\n",
       "    .dataframe tbody tr th:only-of-type {\n",
       "        vertical-align: middle;\n",
       "    }\n",
       "\n",
       "    .dataframe tbody tr th {\n",
       "        vertical-align: top;\n",
       "    }\n",
       "\n",
       "    .dataframe thead th {\n",
       "        text-align: right;\n",
       "    }\n",
       "</style>\n",
       "<table border=\"1\" class=\"dataframe\">\n",
       "  <thead>\n",
       "    <tr style=\"text-align: right;\">\n",
       "      <th></th>\n",
       "      <th></th>\n",
       "      <th></th>\n",
       "      <th>OLS</th>\n",
       "      <th>Lasso</th>\n",
       "      <th>Ridge</th>\n",
       "      <th>SVM</th>\n",
       "      <th>Random Forest</th>\n",
       "    </tr>\n",
       "  </thead>\n",
       "  <tbody>\n",
       "    <tr>\n",
       "      <td rowspan=\"6\" valign=\"top\">Sans EnergyStarScore</td>\n",
       "      <td rowspan=\"3\" valign=\"top\">Baseline</td>\n",
       "      <td>R2 Score</td>\n",
       "      <td>3.931138e-01</td>\n",
       "      <td>0.543260</td>\n",
       "      <td>0.535914</td>\n",
       "      <td>0.446793</td>\n",
       "      <td>0.785375</td>\n",
       "    </tr>\n",
       "    <tr>\n",
       "      <td>RMSE</td>\n",
       "      <td>8.524718e+01</td>\n",
       "      <td>73.953882</td>\n",
       "      <td>74.546229</td>\n",
       "      <td>81.389879</td>\n",
       "      <td>50.695121</td>\n",
       "    </tr>\n",
       "    <tr>\n",
       "      <td>Time</td>\n",
       "      <td>1.097083e-02</td>\n",
       "      <td>0.031914</td>\n",
       "      <td>0.003989</td>\n",
       "      <td>1.963860</td>\n",
       "      <td>0.292241</td>\n",
       "    </tr>\n",
       "    <tr>\n",
       "      <td rowspan=\"3\" valign=\"top\">Optimize</td>\n",
       "      <td>R2 Score</td>\n",
       "      <td>3.931138e-01</td>\n",
       "      <td>0.551180</td>\n",
       "      <td>0.540757</td>\n",
       "      <td>0.448580</td>\n",
       "      <td>0.795122</td>\n",
       "    </tr>\n",
       "    <tr>\n",
       "      <td>RMSE</td>\n",
       "      <td>8.524718e+01</td>\n",
       "      <td>73.309862</td>\n",
       "      <td>74.156232</td>\n",
       "      <td>81.258284</td>\n",
       "      <td>49.530608</td>\n",
       "    </tr>\n",
       "    <tr>\n",
       "      <td>Time</td>\n",
       "      <td>9.973288e-03</td>\n",
       "      <td>0.190491</td>\n",
       "      <td>0.004986</td>\n",
       "      <td>18.304625</td>\n",
       "      <td>3.944610</td>\n",
       "    </tr>\n",
       "    <tr>\n",
       "      <td rowspan=\"6\" valign=\"top\">Avec EnergyStarScore</td>\n",
       "      <td rowspan=\"3\" valign=\"top\">Baseline</td>\n",
       "      <td>R2 Score</td>\n",
       "      <td>-2.688221e+23</td>\n",
       "      <td>0.624952</td>\n",
       "      <td>0.595189</td>\n",
       "      <td>0.546946</td>\n",
       "      <td>0.814307</td>\n",
       "    </tr>\n",
       "    <tr>\n",
       "      <td>RMSE</td>\n",
       "      <td>5.933975e+13</td>\n",
       "      <td>70.090068</td>\n",
       "      <td>72.818105</td>\n",
       "      <td>77.035011</td>\n",
       "      <td>49.318618</td>\n",
       "    </tr>\n",
       "    <tr>\n",
       "      <td>Time</td>\n",
       "      <td>1.296711e-02</td>\n",
       "      <td>0.072837</td>\n",
       "      <td>0.003956</td>\n",
       "      <td>1.997331</td>\n",
       "      <td>0.309827</td>\n",
       "    </tr>\n",
       "    <tr>\n",
       "      <td rowspan=\"3\" valign=\"top\">Optimize</td>\n",
       "      <td>R2 Score</td>\n",
       "      <td>-2.688221e+23</td>\n",
       "      <td>0.624891</td>\n",
       "      <td>0.612457</td>\n",
       "      <td>0.549781</td>\n",
       "      <td>0.887657</td>\n",
       "    </tr>\n",
       "    <tr>\n",
       "      <td>RMSE</td>\n",
       "      <td>5.933975e+13</td>\n",
       "      <td>70.095753</td>\n",
       "      <td>71.248066</td>\n",
       "      <td>76.793644</td>\n",
       "      <td>38.360725</td>\n",
       "    </tr>\n",
       "    <tr>\n",
       "      <td>Time</td>\n",
       "      <td>1.097035e-02</td>\n",
       "      <td>0.172539</td>\n",
       "      <td>0.006981</td>\n",
       "      <td>16.244355</td>\n",
       "      <td>4.035165</td>\n",
       "    </tr>\n",
       "  </tbody>\n",
       "</table>\n",
       "</div>"
      ],
      "text/plain": [
       "                                                 OLS      Lasso      Ridge  \\\n",
       "Sans EnergyStarScore Baseline R2 Score  3.931138e-01   0.543260   0.535914   \n",
       "                              RMSE      8.524718e+01  73.953882  74.546229   \n",
       "                              Time      1.097083e-02   0.031914   0.003989   \n",
       "                     Optimize R2 Score  3.931138e-01   0.551180   0.540757   \n",
       "                              RMSE      8.524718e+01  73.309862  74.156232   \n",
       "                              Time      9.973288e-03   0.190491   0.004986   \n",
       "Avec EnergyStarScore Baseline R2 Score -2.688221e+23   0.624952   0.595189   \n",
       "                              RMSE      5.933975e+13  70.090068  72.818105   \n",
       "                              Time      1.296711e-02   0.072837   0.003956   \n",
       "                     Optimize R2 Score -2.688221e+23   0.624891   0.612457   \n",
       "                              RMSE      5.933975e+13  70.095753  71.248066   \n",
       "                              Time      1.097035e-02   0.172539   0.006981   \n",
       "\n",
       "                                              SVM  Random Forest  \n",
       "Sans EnergyStarScore Baseline R2 Score   0.446793       0.785375  \n",
       "                              RMSE      81.389879      50.695121  \n",
       "                              Time       1.963860       0.292241  \n",
       "                     Optimize R2 Score   0.448580       0.795122  \n",
       "                              RMSE      81.258284      49.530608  \n",
       "                              Time      18.304625       3.944610  \n",
       "Avec EnergyStarScore Baseline R2 Score   0.546946       0.814307  \n",
       "                              RMSE      77.035011      49.318618  \n",
       "                              Time       1.997331       0.309827  \n",
       "                     Optimize R2 Score   0.549781       0.887657  \n",
       "                              RMSE      76.793644      38.360725  \n",
       "                              Time      16.244355       4.035165  "
      ]
     },
     "execution_count": 72,
     "metadata": {},
     "output_type": "execute_result"
    }
   ],
   "source": [
    "final_ghg = pd.concat([scores_ghg, scores_ghg_ess], keys=[\"Sans EnergyStarScore\", \"Avec EnergyStarScore\"])\n",
    "final_ghg"
   ]
  }
 ],
 "metadata": {
  "kernelspec": {
   "display_name": "Python 3",
   "language": "python",
   "name": "python3"
  },
  "language_info": {
   "codemirror_mode": {
    "name": "ipython",
    "version": 3
   },
   "file_extension": ".py",
   "mimetype": "text/x-python",
   "name": "python",
   "nbconvert_exporter": "python",
   "pygments_lexer": "ipython3",
   "version": "3.7.4"
  }
 },
 "nbformat": 4,
 "nbformat_minor": 4
}
